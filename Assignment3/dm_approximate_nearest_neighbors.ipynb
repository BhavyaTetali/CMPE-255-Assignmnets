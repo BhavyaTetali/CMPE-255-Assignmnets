{
  "nbformat": 4,
  "nbformat_minor": 0,
  "metadata": {
    "colab": {
      "name": "dm_approximate_nearest_neighbors.ipynb",
      "provenance": [],
      "collapsed_sections": [],
      "toc_visible": true
    },
    "kernelspec": {
      "name": "python3",
      "display_name": "Python 3"
    },
    "language_info": {
      "name": "python"
    }
  },
  "cells": [
    {
      "cell_type": "code",
      "metadata": {
        "colab": {
          "base_uri": "https://localhost:8080/"
        },
        "id": "TFEoiBg9b3te",
        "outputId": "6eb66bbd-5f06-495c-e945-86fad8f17f48"
      },
      "source": [
        "!pip install -q xlrd\n",
        "!pip install lightfm\n",
        "\n",
        "import pandas as pd\n",
        "import numpy as np\n",
        "import copy\n",
        "import scipy.sparse as sp\n",
        "import pickle\n",
        "\n",
        "from lightfm import LightFM\n"
      ],
      "execution_count": 53,
      "outputs": [
        {
          "output_type": "stream",
          "name": "stdout",
          "text": [
            "Requirement already satisfied: lightfm in /usr/local/lib/python3.7/dist-packages (1.16)\n",
            "Requirement already satisfied: numpy in /usr/local/lib/python3.7/dist-packages (from lightfm) (1.19.5)\n",
            "Requirement already satisfied: scipy>=0.17.0 in /usr/local/lib/python3.7/dist-packages (from lightfm) (1.4.1)\n",
            "Requirement already satisfied: scikit-learn in /usr/local/lib/python3.7/dist-packages (from lightfm) (1.0.1)\n",
            "Requirement already satisfied: requests in /usr/local/lib/python3.7/dist-packages (from lightfm) (2.23.0)\n",
            "Requirement already satisfied: idna<3,>=2.5 in /usr/local/lib/python3.7/dist-packages (from requests->lightfm) (2.10)\n",
            "Requirement already satisfied: urllib3!=1.25.0,!=1.25.1,<1.26,>=1.21.1 in /usr/local/lib/python3.7/dist-packages (from requests->lightfm) (1.24.3)\n",
            "Requirement already satisfied: certifi>=2017.4.17 in /usr/local/lib/python3.7/dist-packages (from requests->lightfm) (2021.10.8)\n",
            "Requirement already satisfied: chardet<4,>=3.0.2 in /usr/local/lib/python3.7/dist-packages (from requests->lightfm) (3.0.4)\n",
            "Requirement already satisfied: threadpoolctl>=2.0.0 in /usr/local/lib/python3.7/dist-packages (from scikit-learn->lightfm) (3.0.0)\n",
            "Requirement already satisfied: joblib>=0.11 in /usr/local/lib/python3.7/dist-packages (from scikit-learn->lightfm) (1.1.0)\n"
          ]
        }
      ]
    },
    {
      "cell_type": "code",
      "metadata": {
        "colab": {
          "base_uri": "https://localhost:8080/"
        },
        "id": "ZKxYNM56bd8s",
        "outputId": "5dacf325-97ca-4a9f-fa4d-11a0ea1c0e3a"
      },
      "source": [
        "from google.colab import drive\n",
        "drive.mount('/content/drive')"
      ],
      "execution_count": 54,
      "outputs": [
        {
          "output_type": "stream",
          "name": "stdout",
          "text": [
            "Drive already mounted at /content/drive; to attempt to forcibly remount, call drive.mount(\"/content/drive\", force_remount=True).\n"
          ]
        }
      ]
    },
    {
      "cell_type": "code",
      "metadata": {
        "colab": {
          "base_uri": "https://localhost:8080/",
          "height": 206
        },
        "id": "TM1LTYdIbfZT",
        "outputId": "a6a6630e-2971-4815-ad95-b67cf2ad45bd"
      },
      "source": [
        "input_raw_data_path = \"/content/drive/MyDrive/dm_data/OnlineRetail.xlsx\"\n",
        "online_retail_sales = pd.read_excel(input_raw_data_path)\n",
        "online_retail_sales.head()"
      ],
      "execution_count": 55,
      "outputs": [
        {
          "output_type": "execute_result",
          "data": {
            "text/html": [
              "<div>\n",
              "<style scoped>\n",
              "    .dataframe tbody tr th:only-of-type {\n",
              "        vertical-align: middle;\n",
              "    }\n",
              "\n",
              "    .dataframe tbody tr th {\n",
              "        vertical-align: top;\n",
              "    }\n",
              "\n",
              "    .dataframe thead th {\n",
              "        text-align: right;\n",
              "    }\n",
              "</style>\n",
              "<table border=\"1\" class=\"dataframe\">\n",
              "  <thead>\n",
              "    <tr style=\"text-align: right;\">\n",
              "      <th></th>\n",
              "      <th>InvoiceNo</th>\n",
              "      <th>StockCode</th>\n",
              "      <th>Description</th>\n",
              "      <th>Quantity</th>\n",
              "      <th>InvoiceDate</th>\n",
              "      <th>UnitPrice</th>\n",
              "      <th>CustomerID</th>\n",
              "      <th>Country</th>\n",
              "    </tr>\n",
              "  </thead>\n",
              "  <tbody>\n",
              "    <tr>\n",
              "      <th>0</th>\n",
              "      <td>536365</td>\n",
              "      <td>85123A</td>\n",
              "      <td>WHITE HANGING HEART T-LIGHT HOLDER</td>\n",
              "      <td>6</td>\n",
              "      <td>2010-12-01 08:26:00</td>\n",
              "      <td>2.55</td>\n",
              "      <td>17850.0</td>\n",
              "      <td>United Kingdom</td>\n",
              "    </tr>\n",
              "    <tr>\n",
              "      <th>1</th>\n",
              "      <td>536365</td>\n",
              "      <td>71053</td>\n",
              "      <td>WHITE METAL LANTERN</td>\n",
              "      <td>6</td>\n",
              "      <td>2010-12-01 08:26:00</td>\n",
              "      <td>3.39</td>\n",
              "      <td>17850.0</td>\n",
              "      <td>United Kingdom</td>\n",
              "    </tr>\n",
              "    <tr>\n",
              "      <th>2</th>\n",
              "      <td>536365</td>\n",
              "      <td>84406B</td>\n",
              "      <td>CREAM CUPID HEARTS COAT HANGER</td>\n",
              "      <td>8</td>\n",
              "      <td>2010-12-01 08:26:00</td>\n",
              "      <td>2.75</td>\n",
              "      <td>17850.0</td>\n",
              "      <td>United Kingdom</td>\n",
              "    </tr>\n",
              "    <tr>\n",
              "      <th>3</th>\n",
              "      <td>536365</td>\n",
              "      <td>84029G</td>\n",
              "      <td>KNITTED UNION FLAG HOT WATER BOTTLE</td>\n",
              "      <td>6</td>\n",
              "      <td>2010-12-01 08:26:00</td>\n",
              "      <td>3.39</td>\n",
              "      <td>17850.0</td>\n",
              "      <td>United Kingdom</td>\n",
              "    </tr>\n",
              "    <tr>\n",
              "      <th>4</th>\n",
              "      <td>536365</td>\n",
              "      <td>84029E</td>\n",
              "      <td>RED WOOLLY HOTTIE WHITE HEART.</td>\n",
              "      <td>6</td>\n",
              "      <td>2010-12-01 08:26:00</td>\n",
              "      <td>3.39</td>\n",
              "      <td>17850.0</td>\n",
              "      <td>United Kingdom</td>\n",
              "    </tr>\n",
              "  </tbody>\n",
              "</table>\n",
              "</div>"
            ],
            "text/plain": [
              "  InvoiceNo StockCode  ... CustomerID         Country\n",
              "0    536365    85123A  ...    17850.0  United Kingdom\n",
              "1    536365     71053  ...    17850.0  United Kingdom\n",
              "2    536365    84406B  ...    17850.0  United Kingdom\n",
              "3    536365    84029G  ...    17850.0  United Kingdom\n",
              "4    536365    84029E  ...    17850.0  United Kingdom\n",
              "\n",
              "[5 rows x 8 columns]"
            ]
          },
          "metadata": {},
          "execution_count": 55
        }
      ]
    },
    {
      "cell_type": "code",
      "metadata": {
        "id": "lfurQ8tvcZsu"
      },
      "source": [
        "# Get dimensions\n",
        "num_users, num_items = online_retail_sales['CustomerID'].nunique(), online_retail_sales['Description'].nunique()"
      ],
      "execution_count": 56,
      "outputs": []
    },
    {
      "cell_type": "code",
      "metadata": {
        "colab": {
          "base_uri": "https://localhost:8080/"
        },
        "id": "ja6Eza47IuA8",
        "outputId": "f9820717-ab29-4911-ac22-0882961431be"
      },
      "source": [
        "print(online_retail_sales.nunique())"
      ],
      "execution_count": 57,
      "outputs": [
        {
          "output_type": "stream",
          "name": "stdout",
          "text": [
            "InvoiceNo      25900\n",
            "StockCode       4070\n",
            "Description     4223\n",
            "Quantity         722\n",
            "InvoiceDate    23260\n",
            "UnitPrice       1630\n",
            "CustomerID      4372\n",
            "Country           38\n",
            "dtype: int64\n"
          ]
        }
      ]
    },
    {
      "cell_type": "code",
      "metadata": {
        "colab": {
          "base_uri": "https://localhost:8080/"
        },
        "id": "15wrYVCJgqG3",
        "outputId": "ba7aa80d-fd7b-4e5c-edcd-a54012ff278b"
      },
      "source": [
        "print(online_retail_sales['StockCode'].nunique())"
      ],
      "execution_count": 58,
      "outputs": [
        {
          "output_type": "stream",
          "name": "stdout",
          "text": [
            "4070\n"
          ]
        }
      ]
    },
    {
      "cell_type": "code",
      "metadata": {
        "colab": {
          "base_uri": "https://localhost:8080/"
        },
        "id": "IvM9yPKAklZ5",
        "outputId": "85e132e4-ec02-486a-9abf-c563f8d09429"
      },
      "source": [
        "print(online_retail_sales['Description'].nunique())"
      ],
      "execution_count": 59,
      "outputs": [
        {
          "output_type": "stream",
          "name": "stdout",
          "text": [
            "4223\n"
          ]
        }
      ]
    },
    {
      "cell_type": "code",
      "metadata": {
        "id": "g0tWzwV9ojWc"
      },
      "source": [
        "item_labels = np.array(online_retail_sales['Description'].unique())\n",
        "item_label_to_index_map = {str(v): int(k) - 1 for k, v in enumerate(item_labels)}\n",
        "\n",
        "cust_ids = np.array(online_retail_sales['CustomerID'].unique())\n",
        "cust_id_to_index_map = {str(v): int(k) - 1 for k, v in enumerate(cust_ids)}\n",
        "\n",
        "countries = np.array(online_retail_sales['Country'].unique())\n",
        "country_to_index_map = {str(v): int(k) - 1 for k, v in enumerate(countries)}"
      ],
      "execution_count": 60,
      "outputs": []
    },
    {
      "cell_type": "code",
      "metadata": {
        "id": "R296jxTfhtns"
      },
      "source": [
        "def _build_interaction_matrix(rows, cols, online_retail_sales, item_label_to_index_map, cust_id_to_index_map, country_to_index_map):\n",
        "\n",
        "    mat = sp.lil_matrix((rows, cols), dtype=np.int32)\n",
        "\n",
        "    for index, row in online_retail_sales.iterrows():\n",
        "        uid = cust_id_to_index_map[str(row['CustomerID'])]\n",
        "        iid = item_label_to_index_map[str(row['Description'])]\n",
        "        countryid = country_to_index_map[str(row['Country'])]\n",
        "        mat[uid, iid] = countryid\n",
        "\n",
        "    return mat.tocoo()"
      ],
      "execution_count": 61,
      "outputs": []
    },
    {
      "cell_type": "code",
      "metadata": {
        "id": "hI99nqMMM1rw"
      },
      "source": [
        "item_features = sp.identity(num_items, format=\"csr\", dtype=np.float32)"
      ],
      "execution_count": 62,
      "outputs": []
    },
    {
      "cell_type": "code",
      "metadata": {
        "id": "fZkhPHO2hdet"
      },
      "source": [
        "data = _build_interaction_matrix(\n",
        "        num_users, num_items, online_retail_sales, item_label_to_index_map, cust_id_to_index_map, country_to_index_map\n",
        "    )"
      ],
      "execution_count": 63,
      "outputs": []
    },
    {
      "cell_type": "code",
      "metadata": {
        "id": "0q-_wBgoOe7p"
      },
      "source": [
        "model = LightFM(learning_rate=0.05, loss='warp', no_components=64, item_alpha=0.001)\n",
        "model.fit_partial(data, item_features=item_features, epochs=20 )\n",
        "\n",
        "item_vectors = item_features * model.item_embeddings"
      ],
      "execution_count": 64,
      "outputs": []
    },
    {
      "cell_type": "code",
      "metadata": {
        "id": "fNLlL5gyWra1"
      },
      "source": [
        "DATA_PATH = \"/content/drive/MyDrive/dm_data/\"\n",
        "with open(DATA_PATH + 'products.pickle', 'wb') as f:\n",
        "    pickle.dump({\"item_labels\": item_labels,\n",
        "        \"customer_ids\": cust_ids,\n",
        "        \"country_labels\": countries, \"vector\": item_vectors}, f)\n"
      ],
      "execution_count": 65,
      "outputs": []
    },
    {
      "cell_type": "code",
      "metadata": {
        "colab": {
          "base_uri": "https://localhost:8080/"
        },
        "id": "-jM2mE_9Zx8z",
        "outputId": "7f4c04a2-0196-4c66-e2c3-d1a1c489f629"
      },
      "source": [
        "def load_data():\n",
        "    with open(DATA_PATH + 'products.pickle', 'rb') as f:\n",
        "        data = pickle.load(f)\n",
        "    return data\n",
        "\n",
        "data = load_data()\n",
        "vectors = data[\"vector\"]\n",
        "data\n"
      ],
      "execution_count": 66,
      "outputs": [
        {
          "output_type": "execute_result",
          "data": {
            "text/plain": [
              "{'country_labels': array(['United Kingdom', 'France', 'Australia', 'Netherlands', 'Germany',\n",
              "        'Norway', 'EIRE', 'Switzerland', 'Spain', 'Poland', 'Portugal',\n",
              "        'Italy', 'Belgium', 'Lithuania', 'Japan', 'Iceland',\n",
              "        'Channel Islands', 'Denmark', 'Cyprus', 'Sweden', 'Austria',\n",
              "        'Israel', 'Finland', 'Bahrain', 'Greece', 'Hong Kong', 'Singapore',\n",
              "        'Lebanon', 'United Arab Emirates', 'Saudi Arabia',\n",
              "        'Czech Republic', 'Canada', 'Unspecified', 'Brazil', 'USA',\n",
              "        'European Community', 'Malta', 'RSA'], dtype=object),\n",
              " 'customer_ids': array([17850., 13047., 12583., ..., 13298., 14569., 12713.]),\n",
              " 'item_labels': array(['WHITE HANGING HEART T-LIGHT HOLDER', 'WHITE METAL LANTERN',\n",
              "        'CREAM CUPID HEARTS COAT HANGER', ..., 'lost',\n",
              "        'CREAM HANGING HEART T-LIGHT HOLDER',\n",
              "        'PAPER CRAFT , LITTLE BIRDIE'], dtype=object),\n",
              " 'vector': array([[ 0.15715317,  0.05075845,  0.16749544, ..., -0.04258499,\n",
              "         -0.11535739,  0.11093401],\n",
              "        [ 0.11375535,  0.08076802, -0.04001924, ...,  0.04589737,\n",
              "         -0.00602258, -0.11572213],\n",
              "        [-0.03138248,  0.12287461,  0.11926574, ..., -0.04515238,\n",
              "         -0.09666611, -0.1266779 ],\n",
              "        ...,\n",
              "        [-0.13308893, -0.09512183, -0.00907176, ...,  0.07756232,\n",
              "          0.1569686 , -0.0654173 ],\n",
              "        [-0.08059752, -0.06126509,  0.03452677, ...,  0.04487964,\n",
              "         -0.00758594, -0.0564067 ],\n",
              "        [ 0.1494263 ,  0.1602504 ,  0.06764691, ..., -0.2782337 ,\n",
              "          0.27243724,  0.153242  ]], dtype=float32)}"
            ]
          },
          "metadata": {},
          "execution_count": 66
        }
      ]
    },
    {
      "cell_type": "code",
      "metadata": {
        "colab": {
          "base_uri": "https://localhost:8080/"
        },
        "id": "OvuK3j53alw5",
        "outputId": "102480fb-eeff-4aeb-83da-907a98461342"
      },
      "source": [
        "!pip install faiss-gpu"
      ],
      "execution_count": 67,
      "outputs": [
        {
          "output_type": "stream",
          "name": "stdout",
          "text": [
            "Requirement already satisfied: faiss-gpu in /usr/local/lib/python3.7/dist-packages (1.7.1.post2)\n"
          ]
        }
      ]
    },
    {
      "cell_type": "code",
      "metadata": {
        "colab": {
          "base_uri": "https://localhost:8080/"
        },
        "id": "_5TU_OQEaJtR",
        "outputId": "62560b33-dfea-43f2-842c-33192be1e6f2"
      },
      "source": [
        "import faiss\n",
        "faiss.MatrixStats(vectors).comments.split(\"\\n\")\n"
      ],
      "execution_count": 68,
      "outputs": [
        {
          "output_type": "execute_result",
          "data": {
            "text/plain": [
              "['analyzing 4223 vectors of size 64',\n",
              " 'no NaN or Infs in data',\n",
              " 'all vectors are distinct',\n",
              " 'range of L2 norms=[0.318247, 2.16211] (0 null vectors)',\n",
              " 'matrix contains no 0s',\n",
              " 'no constant dimensions',\n",
              " 'no dimension has a too large mean',\n",
              " 'stddevs per dimension are in [0.0921002 0.139653]',\n",
              " '']"
            ]
          },
          "metadata": {},
          "execution_count": 68
        }
      ]
    },
    {
      "cell_type": "markdown",
      "metadata": {
        "id": "x3iD_wNzn07l"
      },
      "source": [
        "#Exhaustive Search Using Faiss"
      ]
    },
    {
      "cell_type": "markdown",
      "metadata": {
        "id": "ws6jv_GdsMgo"
      },
      "source": [
        "Faiss (Facebook AI Similarity Search) has several methods for similarity search. In this, instances are represented as vectors and these vectors can be compared using Euclidean distance method. Vectors are considered as similar if they have lowest euclidean distance between them. In this way, the similar vectors are extracted for the given vector.\n",
        "\n",
        "IndexFlatL2 method uses brute-force way to search for similarities using euclidean disatance method.\n",
        "\n",
        "Faiss has two implementations of this operation:\n",
        "*   Direct implementation i.e., using brute-force approach to loop over all the vectors, to find the most similar elements.\n",
        "*   Second implementation is similar to the first implementation but uses BLAS library to calculate distance efficiently (via matrix/matrix multiplication), which makes this faster compared to the first approach\n",
        "\n",
        "Below is an example of first implementation."
      ]
    },
    {
      "cell_type": "code",
      "metadata": {
        "id": "oqIQAOaPp_pH"
      },
      "source": [
        "data = load_data()\n",
        "vectors = data[\"vector\"]\n",
        "item_labels = data[\"item_labels\"]"
      ],
      "execution_count": 69,
      "outputs": []
    },
    {
      "cell_type": "code",
      "metadata": {
        "colab": {
          "base_uri": "https://localhost:8080/"
        },
        "id": "VKP7SV2Mryou",
        "outputId": "d39779d6-78c2-4f97-80ac-6b7c232fcb92"
      },
      "source": [
        "vectors.shape"
      ],
      "execution_count": 70,
      "outputs": [
        {
          "output_type": "execute_result",
          "data": {
            "text/plain": [
              "(4223, 64)"
            ]
          },
          "metadata": {},
          "execution_count": 70
        }
      ]
    },
    {
      "cell_type": "code",
      "metadata": {
        "id": "ByOBvly_jybZ",
        "colab": {
          "base_uri": "https://localhost:8080/"
        },
        "outputId": "7ad17d0d-5f54-4ffa-948c-4885049e5753"
      },
      "source": [
        "%%time\n",
        "index = faiss.IndexFlatL2(vectors.shape[1])\n",
        "index.add(vectors)"
      ],
      "execution_count": 71,
      "outputs": [
        {
          "output_type": "stream",
          "name": "stdout",
          "text": [
            "CPU times: user 1.35 ms, sys: 4 µs, total: 1.36 ms\n",
            "Wall time: 823 µs\n"
          ]
        }
      ]
    },
    {
      "cell_type": "code",
      "metadata": {
        "colab": {
          "base_uri": "https://localhost:8080/"
        },
        "id": "1rkXYDYxj0b1",
        "outputId": "5d129bb8-fa23-4352-c77f-fe0ac9b32bcb"
      },
      "source": [
        "%%time\n",
        "search_vector = vectors[70:71]\n",
        "distances, indices = index.search(search_vector, 10)\n"
      ],
      "execution_count": 72,
      "outputs": [
        {
          "output_type": "stream",
          "name": "stdout",
          "text": [
            "CPU times: user 8.17 ms, sys: 0 ns, total: 8.17 ms\n",
            "Wall time: 9.42 ms\n"
          ]
        }
      ]
    },
    {
      "cell_type": "code",
      "metadata": {
        "colab": {
          "base_uri": "https://localhost:8080/"
        },
        "id": "18OTdMugj4y9",
        "outputId": "410db587-6331-4d9f-c7bb-4edda1ad03b5"
      },
      "source": [
        "out = [item_labels[i] for i in indices[0]]\n",
        "print(f\"The most similar products to {item_labels[70]} are:\", *out, sep='\\n- ')"
      ],
      "execution_count": 73,
      "outputs": [
        {
          "output_type": "stream",
          "name": "stdout",
          "text": [
            "The most similar products to PACK OF 60 DINOSAUR CAKE CASES are:\n",
            "- PACK OF 60 DINOSAUR CAKE CASES\n",
            "- PACK OF 60 PINK PAISLEY CAKE CASES\n",
            "- LUNCH BOX WITH CUTLERY RETROSPOT \n",
            "- AIRLINE BAG VINTAGE TOKYO 78\n",
            "- PACK OF 60 SPACEBOY CAKE CASES\n",
            "- PACK OF 72 RETROSPOT CAKE CASES\n",
            "- PACK OF 72 SKULL CAKE CASES\n",
            "- CHEST OF DRAWERS GINGHAM HEART \n",
            "- ANTIQUE SILVER TEA GLASS ETCHED\n",
            "- 3 PIECE SPACEBOY COOKIE CUTTER SET\n"
          ]
        }
      ]
    },
    {
      "cell_type": "markdown",
      "metadata": {
        "id": "z7caFmcBoyxq"
      },
      "source": [
        "#Vector Encoding using Product Quantization"
      ]
    },
    {
      "cell_type": "markdown",
      "metadata": {
        "id": "kjmzhubwt7Z4"
      },
      "source": [
        "Faiss loads the entire index (about vectors) into the RAM during the querying process, so exhaustive search works ONLY if the number of vectors OR it's dimensions, is not huge. In other words, it will be challenging to use exhaustive search for dataset with millions of vectors having huge number of dimensions. \n",
        "\n",
        "In this case, we can use Faiss with Product Quantizer's compression algorithm to compress the indexed vectors. In this approach, vector size will be encoded to the specified number of bytes. As the stored vector is compressed, the distance calculated between the vectors will be a approximate value instead of an exact value. So, the similarities created using this approach will be of approximate similarities."
      ]
    },
    {
      "cell_type": "code",
      "metadata": {
        "id": "9Cr1tVeRqOax"
      },
      "source": [
        "data = load_data()\n",
        "vectors = data[\"vector\"]\n",
        "item_labels = data[\"item_labels\"]"
      ],
      "execution_count": 74,
      "outputs": []
    },
    {
      "cell_type": "code",
      "metadata": {
        "id": "5tU9tFPeoymp",
        "colab": {
          "base_uri": "https://localhost:8080/"
        },
        "outputId": "c7276b99-d67d-4f00-f2d9-f081fd73c91e"
      },
      "source": [
        "%%time\n",
        "quantizer = faiss.IndexFlatL2(vectors.shape[1])\n",
        "index = faiss.IndexIVFPQ(quantizer, vectors.shape[1], 100, 8, 8)               \n",
        "index.train(vectors)\n",
        "index.add(vectors)"
      ],
      "execution_count": 75,
      "outputs": [
        {
          "output_type": "stream",
          "name": "stdout",
          "text": [
            "CPU times: user 1.59 s, sys: 35 ms, total: 1.63 s\n",
            "Wall time: 871 ms\n"
          ]
        }
      ]
    },
    {
      "cell_type": "code",
      "metadata": {
        "colab": {
          "base_uri": "https://localhost:8080/"
        },
        "id": "vFwkN3HXoug8",
        "outputId": "27862f6f-ec75-4dd8-d04f-0223fa39714b"
      },
      "source": [
        "%%time\n",
        "search_vector = vectors[70:71]\n",
        "distances, indices = index.search(search_vector, 10)"
      ],
      "execution_count": 76,
      "outputs": [
        {
          "output_type": "stream",
          "name": "stdout",
          "text": [
            "CPU times: user 9.34 ms, sys: 4 µs, total: 9.34 ms\n",
            "Wall time: 6.41 ms\n"
          ]
        }
      ]
    },
    {
      "cell_type": "code",
      "metadata": {
        "colab": {
          "base_uri": "https://localhost:8080/"
        },
        "id": "5apxTeWGpi3o",
        "outputId": "71fcab52-5a88-4a42-a513-7fa4ceb8a717"
      },
      "source": [
        "out = [item_labels[i] for i in indices[0]]\n",
        "print(f\"The most similar products to {item_labels[70]} are:\", *out, sep='\\n- ')"
      ],
      "execution_count": 77,
      "outputs": [
        {
          "output_type": "stream",
          "name": "stdout",
          "text": [
            "The most similar products to PACK OF 60 DINOSAUR CAKE CASES are:\n",
            "- PACK OF 60 DINOSAUR CAKE CASES\n",
            "- PACK OF 60 PINK PAISLEY CAKE CASES\n",
            "- AIRLINE BAG VINTAGE TOKYO 78\n",
            "- LUNCH BOX WITH CUTLERY RETROSPOT \n",
            "- CHEST OF DRAWERS GINGHAM HEART \n",
            "- PACK OF 72 SKULL CAKE CASES\n",
            "- ANTIQUE SILVER TEA GLASS ETCHED\n",
            "- SET OF 12 MINI BUNNIES IN A BUCKET\n",
            "- CHRISTMAS LIGHTS 10 SANTAS \n",
            "- PACK OF 72 RETROSPOT CAKE CASES\n"
          ]
        }
      ]
    },
    {
      "cell_type": "markdown",
      "metadata": {
        "id": "9KIy1PAgygWs"
      },
      "source": [
        "#Locality Sensitive Hashing (LSH)\n",
        "\n",
        "FAISS provides another index known as LSH to solve ANN search. LSH groups similar data points (or vectors) into the same bucket, using a hash function. LSH uses a hash function that results in higher collisions instead of minimal collisions (which is a general case in hashmap though).\n",
        "\n",
        "After grouping the similar data points, LHS will only compare the search vector with other vectors from the same group that search vector belongs to. In this way, LSH compares the search vector with few number of vectors instead of all the vectors.\n",
        "\n"
      ]
    },
    {
      "cell_type": "code",
      "metadata": {
        "id": "j7zFkEBXy9ps"
      },
      "source": [
        "data = load_data()\n",
        "vectors = data[\"vector\"]\n",
        "item_labels = data[\"item_labels\"]"
      ],
      "execution_count": 78,
      "outputs": []
    },
    {
      "cell_type": "markdown",
      "metadata": {
        "id": "Z2-1Eo9_5df4"
      },
      "source": [
        "From this [link](https://www.pinecone.io/learn/vector-indexes/), it seems like using \"number of bits\" for hashed vector as 16 times of vector's dimension will yeild 80% of recall performance for the model."
      ]
    },
    {
      "cell_type": "code",
      "metadata": {
        "id": "MaDHQIFM4_6U",
        "colab": {
          "base_uri": "https://localhost:8080/"
        },
        "outputId": "1231c2b4-2c74-4761-d9f4-dbac1f873ff5"
      },
      "source": [
        "%%time\n",
        "d = vectors.shape[1]\n",
        "nbits = d*16 \n",
        "index = faiss.IndexLSH(d, nbits)\n",
        "index.add(vectors)"
      ],
      "execution_count": 79,
      "outputs": [
        {
          "output_type": "stream",
          "name": "stdout",
          "text": [
            "CPU times: user 201 ms, sys: 5 ms, total: 206 ms\n",
            "Wall time: 159 ms\n"
          ]
        }
      ]
    },
    {
      "cell_type": "code",
      "metadata": {
        "colab": {
          "base_uri": "https://localhost:8080/"
        },
        "id": "u7mXOtNU6Pw1",
        "outputId": "83ab6d39-092f-4da3-bb6f-65fa1c3719c0"
      },
      "source": [
        "%%time\n",
        "search_vector = vectors[70:71]\n",
        "distances, indices = index.search(search_vector, 10)"
      ],
      "execution_count": 80,
      "outputs": [
        {
          "output_type": "stream",
          "name": "stdout",
          "text": [
            "CPU times: user 0 ns, sys: 816 µs, total: 816 µs\n",
            "Wall time: 813 µs\n"
          ]
        }
      ]
    },
    {
      "cell_type": "code",
      "metadata": {
        "colab": {
          "base_uri": "https://localhost:8080/"
        },
        "id": "-jt42Fdi6RoW",
        "outputId": "7f5e20ab-4f63-4727-dbaf-5e65b27ae17a"
      },
      "source": [
        "out = [item_labels[i] for i in indices[0]]\n",
        "print(f\"The most similar products to {item_labels[70]} are:\", *out, sep='\\n- ')"
      ],
      "execution_count": 81,
      "outputs": [
        {
          "output_type": "stream",
          "name": "stdout",
          "text": [
            "The most similar products to PACK OF 60 DINOSAUR CAKE CASES are:\n",
            "- PACK OF 60 DINOSAUR CAKE CASES\n",
            "- PACK OF 60 PINK PAISLEY CAKE CASES\n",
            "- LUNCH BOX WITH CUTLERY RETROSPOT \n",
            "- PACK OF 60 SPACEBOY CAKE CASES\n",
            "- AIRLINE BAG VINTAGE TOKYO 78\n",
            "- PACK OF 72 SKULL CAKE CASES\n",
            "- CHEST OF DRAWERS GINGHAM HEART \n",
            "- PACK OF 72 RETROSPOT CAKE CASES\n",
            "- 75 GREEN PETIT FOUR CASES\n",
            "- CHOCOLATE THIS WAY METAL SIGN\n"
          ]
        }
      ]
    },
    {
      "cell_type": "markdown",
      "metadata": {
        "id": "UikqnQqdpMKs"
      },
      "source": [
        "#Hierarchical Navigable Small World Graphs\n",
        "\n",
        "HNSW is an extension to navigable small world (NSW) graphs, where an NSW graph is a graph structure containing vertices connected by edges to their nearest neighbors.\n",
        "\n",
        "Each node in the graph represents a vector point, and nodes are linked to other nodes that are close in space. \n",
        "\n",
        "With a graph data structure on the data set, approximate nearest neighbors can be identified using graph traversal methods. For a given query, we find its nearest neighbors by starting at a random point in the graph and computing its distance to the given query. From this entry point, graph will be explored by calculating the distance to the query for each newly visited node (until no closer point is found).\n",
        "\n",
        "HNSW-based ANNS is the highest performing index.\n",
        "\n",
        "\n"
      ]
    },
    {
      "cell_type": "code",
      "metadata": {
        "id": "0svkivz-pLol"
      },
      "source": [
        "data = load_data()\n",
        "vectors = data[\"vector\"]\n",
        "item_labels = data[\"item_labels\"]"
      ],
      "execution_count": 82,
      "outputs": []
    },
    {
      "cell_type": "code",
      "metadata": {
        "colab": {
          "base_uri": "https://localhost:8080/"
        },
        "id": "FpPV5lxIp0Nw",
        "outputId": "d7eb058b-cd0e-4d12-dc87-9bf78ae92650"
      },
      "source": [
        "%%time\n",
        "d = vectors.shape[1]\n",
        "M = 64\n",
        "index = faiss.IndexHNSWFlat(d, M)\n",
        "index.hnsw.efConstruction = 64\n",
        "index.hnsw.efSearch = 32\n",
        "index.add(vectors)"
      ],
      "execution_count": 83,
      "outputs": [
        {
          "output_type": "stream",
          "name": "stdout",
          "text": [
            "CPU times: user 1.08 s, sys: 3.89 ms, total: 1.08 s\n",
            "Wall time: 603 ms\n"
          ]
        }
      ]
    },
    {
      "cell_type": "code",
      "metadata": {
        "colab": {
          "base_uri": "https://localhost:8080/"
        },
        "id": "I7zaieJup13p",
        "outputId": "b99ea878-7393-4f57-85d9-3fc088f6ea4b"
      },
      "source": [
        "%%time\n",
        "search_vector = vectors[70:71]\n",
        "distances, indices = index.search(search_vector, 10)"
      ],
      "execution_count": 84,
      "outputs": [
        {
          "output_type": "stream",
          "name": "stdout",
          "text": [
            "CPU times: user 1.88 ms, sys: 0 ns, total: 1.88 ms\n",
            "Wall time: 2.19 ms\n"
          ]
        }
      ]
    },
    {
      "cell_type": "code",
      "metadata": {
        "colab": {
          "base_uri": "https://localhost:8080/"
        },
        "id": "BDu1L7Idp3hg",
        "outputId": "4c6606cc-abe7-4f76-ad05-ae9ace7cec9c"
      },
      "source": [
        "out = [item_labels[i] for i in indices[0]]\n",
        "print(f\"The most similar products to {item_labels[70]} are:\", *out, sep='\\n- ')"
      ],
      "execution_count": 85,
      "outputs": [
        {
          "output_type": "stream",
          "name": "stdout",
          "text": [
            "The most similar products to PACK OF 60 DINOSAUR CAKE CASES are:\n",
            "- PACK OF 60 DINOSAUR CAKE CASES\n",
            "- PACK OF 60 PINK PAISLEY CAKE CASES\n",
            "- LUNCH BOX WITH CUTLERY RETROSPOT \n",
            "- AIRLINE BAG VINTAGE TOKYO 78\n",
            "- PACK OF 60 SPACEBOY CAKE CASES\n",
            "- PACK OF 72 RETROSPOT CAKE CASES\n",
            "- PACK OF 72 SKULL CAKE CASES\n",
            "- CHEST OF DRAWERS GINGHAM HEART \n",
            "- ANTIQUE SILVER TEA GLASS ETCHED\n",
            "- 3 PIECE SPACEBOY COOKIE CUTTER SET\n"
          ]
        }
      ]
    },
    {
      "cell_type": "markdown",
      "metadata": {
        "id": "sMdCl6Q0rQ7x"
      },
      "source": [
        "#Trees and Forests\n",
        "\n",
        "Annoy (Approximate Nearest Neighbors Oh Yeah) is being used as recommendation engine by Spotify.\n",
        "Annoy constructs N binary trees, where each tree is independently constructed by recursively partitioning the data points. While searching for nearby neighbors, search process is carried out by travelling through tree nodes (starting from the root). "
      ]
    },
    {
      "cell_type": "code",
      "metadata": {
        "colab": {
          "base_uri": "https://localhost:8080/"
        },
        "id": "BOJfOMxGrhLC",
        "outputId": "6c7c52b7-e998-4035-fb2d-109eebcdb3b4"
      },
      "source": [
        "!pip install annoy\n",
        "import annoy"
      ],
      "execution_count": 86,
      "outputs": [
        {
          "output_type": "stream",
          "name": "stdout",
          "text": [
            "Requirement already satisfied: annoy in /usr/local/lib/python3.7/dist-packages (1.17.0)\n"
          ]
        }
      ]
    },
    {
      "cell_type": "code",
      "metadata": {
        "id": "2TFg0c_srRYQ"
      },
      "source": [
        "data = load_data()\n",
        "vectors = data[\"vector\"]\n",
        "item_labels = data[\"item_labels\"]"
      ],
      "execution_count": 87,
      "outputs": []
    },
    {
      "cell_type": "code",
      "metadata": {
        "colab": {
          "base_uri": "https://localhost:8080/"
        },
        "id": "0HWx9irLrd6L",
        "outputId": "cf0d993c-9093-4744-cbd6-18dd8a0cb2e4"
      },
      "source": [
        "%%time\n",
        "d = vectors.shape[1]\n",
        "index = annoy.AnnoyIndex(d)\n",
        "for i, vec in enumerate(vectors):\n",
        "    index.add_item(i, vec.tolist())\n",
        "index.build(5)"
      ],
      "execution_count": 88,
      "outputs": [
        {
          "output_type": "stream",
          "name": "stdout",
          "text": [
            "CPU times: user 49 ms, sys: 3.01 ms, total: 52.1 ms\n",
            "Wall time: 36.6 ms\n"
          ]
        },
        {
          "output_type": "stream",
          "name": "stderr",
          "text": [
            "/usr/local/lib/python3.7/dist-packages/ipykernel_launcher.py:2: FutureWarning: The default argument for metric will be removed in future version of Annoy. Please pass metric='angular' explicitly.\n",
            "  \n"
          ]
        }
      ]
    },
    {
      "cell_type": "code",
      "metadata": {
        "id": "weDM-UgQs_LU"
      },
      "source": [
        "def query(index, vector, k):\n",
        "    indices = index.get_nns_by_vector(vector.tolist(), k)\n",
        "    return indices"
      ],
      "execution_count": 89,
      "outputs": []
    },
    {
      "cell_type": "code",
      "metadata": {
        "colab": {
          "base_uri": "https://localhost:8080/"
        },
        "id": "l1v0v6a_tql9",
        "outputId": "9855fd15-3080-4e5b-c214-94958f0bd654"
      },
      "source": [
        "%%time\n",
        "search_vector = vectors[70]\n",
        "indices = query(index, search_vector, 10)"
      ],
      "execution_count": 90,
      "outputs": [
        {
          "output_type": "stream",
          "name": "stdout",
          "text": [
            "CPU times: user 1.17 ms, sys: 0 ns, total: 1.17 ms\n",
            "Wall time: 1.03 ms\n"
          ]
        }
      ]
    },
    {
      "cell_type": "code",
      "metadata": {
        "colab": {
          "base_uri": "https://localhost:8080/"
        },
        "id": "C-MwWR9hvGmS",
        "outputId": "3446d677-83d0-47f7-f951-f5ed62c0db49"
      },
      "source": [
        "out = [item_labels[i] for i in indices]\n",
        "print(f\"The most similar products to {item_labels[70]} are:\", *out, sep='\\n- ')"
      ],
      "execution_count": 91,
      "outputs": [
        {
          "output_type": "stream",
          "name": "stdout",
          "text": [
            "The most similar products to PACK OF 60 DINOSAUR CAKE CASES are:\n",
            "- PACK OF 60 DINOSAUR CAKE CASES\n",
            "- PACK OF 60 PINK PAISLEY CAKE CASES\n",
            "- LUNCH BOX WITH CUTLERY RETROSPOT \n",
            "- AIRLINE BAG VINTAGE TOKYO 78\n",
            "- PACK OF 60 SPACEBOY CAKE CASES\n",
            "- PACK OF 72 SKULL CAKE CASES\n",
            "- PACK OF 72 RETROSPOT CAKE CASES\n",
            "- CHEST OF DRAWERS GINGHAM HEART \n",
            "- 75 GREEN PETIT FOUR CASES\n",
            "- ANTIQUE SILVER TEA GLASS ETCHED\n"
          ]
        }
      ]
    }
  ]
}